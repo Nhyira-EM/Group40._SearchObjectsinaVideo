{
  "cells": [
    {
      "cell_type": "code",
      "execution_count": null,
      "metadata": {
        "colab": {
          "base_uri": "https://localhost:8080/"
        },
        "id": "YesBh8WTpLMo",
        "outputId": "26b0997e-4cee-4082-c73f-d43e01c573de"
      },
      "outputs": [
        {
          "name": "stdout",
          "output_type": "stream",
          "text": [
            "Mounted at /content/drive\n"
          ]
        }
      ],
      "source": [
        "from google.colab import drive\n",
        "from google.colab import files\n",
        "drive.mount('/content/drive')"
      ]
    },
    {
      "cell_type": "code",
      "execution_count": null,
      "metadata": {
        "colab": {
          "background_save": true
        },
        "id": "5MYbB4ljiVlN"
      },
      "outputs": [],
      "source": [
        "from tensorflow.keras.applications import InceptionV3\n",
        "import tensorflow as tf\n",
        "import keras as keras\n",
        "import pickle\n",
        "import keras.backend as K\n",
        "import cv2\n",
        "import os\n",
        "import shutil"
      ]
    },
    {
      "cell_type": "markdown",
      "metadata": {
        "id": "owSb0Z_lvYld"
      },
      "source": [
        "## Splitting video into frames"
      ]
    },
    {
      "cell_type": "code",
      "execution_count": null,
      "metadata": {
        "colab": {
          "background_save": true
        },
        "id": "GBLbGgVDOqtv"
      },
      "outputs": [],
      "source": [
        "def get_frames(uploaded):\n",
        "  if len(uploaded)==0:\n",
        "    print(\"No file uploaded\")\n",
        "    return None\n",
        "  else:\n",
        "    filename = next(iter(uploaded))\n",
        "    if os.path.isdir('frames'):\n",
        "            shutil.rmtree('frames')\n",
        "    os.makedirs('frames',exist_ok=True)\n",
        "    cap = cv2.VideoCapture(str(filename))\n",
        "    frame_count = 0\n",
        "    while True:\n",
        "      ret, frame = cap.read()\n",
        "      if not ret:\n",
        "        break\n",
        "      frame_count += 1\n",
        "      frame_filename = f'frames/frame_{frame_count}.jpg'\n",
        "      cv2.imwrite(frame_filename, frame)\n",
        "    cap.release()\n",
        "    frame_filenames = sorted(os.listdir('frames'))\n",
        "    print(f\"Extracted {frame_count} frames.\")\n",
        "    return frame_filenames"
      ]
    },
    {
      "cell_type": "code",
      "execution_count": null,
      "metadata": {
        "colab": {
          "background_save": true
        },
        "id": "5ucGNjLcfsrM"
      },
      "outputs": [],
      "source": [
        "def detect_all_objects(frame_filenames):\n",
        "  if frame_filenames==None:\n",
        "    print(\"No frames found\")\n",
        "    return None, None\n",
        "  else:\n",
        "    frame_obj_dict = {}\n",
        "    for frame_filename in frame_filenames:\n",
        "        frame_path = os.path.join('frames', frame_filename)\n",
        "        img = tf.io.read_file(frame_path)\n",
        "        img = tf.image.decode_image(img, channels=3)\n",
        "        img = tf.cast(img, tf.float32)\n",
        "        img = tf.image.resize(img, (299, 299))\n",
        "        img = tf.keras.applications.inception_v3.preprocess_input(img)\n",
        "        img_expanded = tf.expand_dims(img, axis=0)\n",
        "        model = InceptionV3(weights='imagenet', include_top=True)\n",
        "        prediction = model.predict(img_expanded,verbose=0)\n",
        "        decoded_predictions = tf.keras.applications.inception_v3.decode_predictions(prediction, top=3)\n",
        "        img_dict = {}\n",
        "        for i, (imagenet_id, label, score) in enumerate(decoded_predictions[0]):\n",
        "              img_dict[i+1] = label\n",
        "        frame_obj_dict[frame_filename] = img_dict\n",
        "\n",
        "    all_objects = []\n",
        "    for frame_name in frame_obj_dict.keys():\n",
        "      for obj_id in frame_obj_dict[frame_name].keys():\n",
        "        all_objects.append(frame_obj_dict[frame_name][obj_id])\n",
        "    all_obj = list(set(all_objects))\n",
        "\n",
        "    return frame_obj_dict, all_obj"
      ]
    },
    {
      "cell_type": "code",
      "execution_count": null,
      "metadata": {
        "colab": {
          "background_save": true
        },
        "collapsed": true,
        "id": "QAq-nfEUrpME"
      },
      "outputs": [],
      "source": [
        "def search_object(search_query,frame_obj_dict,all_obj):\n",
        "  if frame_obj_dict==None:\n",
        "    print(\"No frames found\")\n",
        "    return None\n",
        "  else:\n",
        "    obj_frames = []\n",
        "    for frame_name in frame_obj_dict.keys():\n",
        "      if search_query in frame_obj_dict[frame_name].values():\n",
        "        obj_frames.append(frame_name)\n",
        "    import matplotlib.pyplot as plt\n",
        "    if len(obj_frames)==0:\n",
        "      print(\"Object doesn't exist!!!\")\n",
        "      print(\"\\nChoose from the list below\")\n",
        "      for obj in all_obj:\n",
        "        print(f'\\n {obj}')\n",
        "      opt=input(\"What new object do you want to search for: \")\n",
        "      obj_in_video(opt)\n",
        "    else:\n",
        "      for framee in obj_frames:\n",
        "        frame_path = os.path.join('frames', framee)\n",
        "        frame = cv2.imread(frame_path)\n",
        "        print(f'\\n{search_query} in {framee}')\n",
        "        plt.imshow(cv2.cvtColor(frame, cv2.COLOR_BGR2RGB))\n",
        "        plt.axis('off')\n",
        "        plt.show()"
      ]
    },
    {
      "cell_type": "code",
      "execution_count": null,
      "metadata": {
        "colab": {
          "background_save": true
        },
        "id": "scN3SNo20uF2"
      },
      "outputs": [],
      "source": [
        "def obj_in_video(search_query):\n",
        "  uploaded = files.upload()\n",
        "  filenames = get_frames(uploaded)\n",
        "  fram_obj_dict, objs = detect_all_objects(filenames)\n",
        "  search_object(search_query,fram_obj_dict,objs)"
      ]
    },
    {
      "cell_type": "code",
      "execution_count": null,
      "metadata": {
        "colab": {
          "background_save": true,
          "base_uri": "https://localhost:8080/",
          "height": 38
        },
        "id": "IHYjBqNs1KMI",
        "outputId": "bfd221c2-ab73-46d0-8427-09358fa8754f"
      },
      "outputs": [],
      "source": [
        "obj_in_video(\"book\")"
      ]
    }
  ],
  "metadata": {
    "colab": {
      "provenance": []
    },
    "kernelspec": {
      "display_name": "Python 3",
      "name": "python3"
    },
    "language_info": {
      "name": "python",
      "version": "3.12.3"
    }
  },
  "nbformat": 4,
  "nbformat_minor": 0
}
